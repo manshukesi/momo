{
 "cells": [
  {
   "cell_type": "code",
   "execution_count": 19,
   "metadata": {},
   "outputs": [
    {
     "name": "stdout",
     "output_type": "stream",
     "text": [
      "The value of pi is approximately 3.142.\n"
     ]
    }
   ],
   "source": [
    "import math\n",
    "print(f'The value of pi is approximately {math.pi:.3f}.')"
   ]
  },
  {
   "cell_type": "code",
   "execution_count": 20,
   "metadata": {},
   "outputs": [],
   "source": [
    "#在 Python 中，使用#标记进行单行注释。\n",
    "#使用\"\"\"或'''来进行多行注释。\n",
    "#多行注释不能嵌套。\n",
    "#注释不会被 Python 解释器执行"
   ]
  },
  {
   "cell_type": "code",
   "execution_count": 21,
   "metadata": {},
   "outputs": [],
   "source": [
    "#代码注释最重要的作用就是让读者可以在不读源码的情况下，快速了解一段代码的主要功能。\n",
    "#注释是提高代码可读性的重要手段。"
   ]
  },
  {
   "cell_type": "code",
   "execution_count": 22,
   "metadata": {},
   "outputs": [],
   "source": [
    "#使用\\加上符号表示对其后的字符进行转义，如\\n表示换行，而不是\\和n的简单组合。例如，要在字符串中添加制表符，可使用字符组合\\t。"
   ]
  },
  {
   "cell_type": "markdown",
   "metadata": {},
   "source": [
    "\n",
    "符号\t说明\n",
    "\\\t如果出现在行尾，则表示续行。即一行未完，转到下一行继续写\n",
    "\\'\t单引号\n",
    "\\\"\t双引号\n",
    "\\n\t换行符\n",
    "\\t\t横向制表符\n",
    "\\r\t回车符\n",
    "\\x\t十六进制数代表的字符"
   ]
  },
  {
   "cell_type": "markdown",
   "metadata": {},
   "source": [
    "要防止字符串中使用转义，需要在字符串前面加上r或者R，表示原始（raw）字符串，例如r\"data\\600519.csv\""
   ]
  },
  {
   "cell_type": "markdown",
   "metadata": {},
   "source": [
    "标识符（Identifier）是变量和函数的名称。简单理解，标识符就是用户对变量和函数、类、模块等可以起名字的对象命名时所使用的字符串。"
   ]
  },
  {
   "cell_type": "markdown",
   "metadata": {},
   "source": [
    "Python 标识符由字母、数字和下划线组成，可以是中文字符。\n",
    "Python 标识符不能以数字开头。\n",
    "Python 标识符严格区分大小写。\n",
    "Python 标识符不能包含空格、@、% 以及 $ 等特殊字符。\n",
    "不能以系统保留关键字（目前共35个，后续随着版本的更新，肯定会增多）作为标识符"
   ]
  },
  {
   "cell_type": "markdown",
   "metadata": {},
   "source": [
    "值（Value） 是程序运行过程中的基本元素之一，例如1，3.14，\"hello\"等等都是值。在编程术语中，它们又被叫作字面量（literals）。字面量拥有不同的类型，如1是整型（int），3.14是浮点型（float），\"hello\"是字符串（string）。"
   ]
  },
  {
   "cell_type": "markdown",
   "metadata": {},
   "source": [
    "使用“=”为变量赋值，等于号=也被认为赋值操作符。\n",
    "在 Python 中，无需声明变量类型，解释器会根据变量的值自动判断变量类型。\n",
    "Python 变量的数据类型可以动态改变。"
   ]
  },
  {
   "cell_type": "markdown",
   "metadata": {},
   "source": [
    "Python不同行之间通过冒号和缩进来区分代码块之间的层次。行尾的冒号和下一行的缩进，表示下一个代码块的开始，而缩进的结束则表示此代码块的结束。"
   ]
  },
  {
   "cell_type": "markdown",
   "metadata": {},
   "source": [
    "if语句后面的条件判断表达式使用 : 结束。\n",
    "可以使用elif、else进行组合判断。\n",
    "else后不能加判断条件。\n",
    "if语句可以嵌套。"
   ]
  },
  {
   "cell_type": "markdown",
   "metadata": {},
   "source": []
  },
  {
   "cell_type": "code",
   "execution_count": 23,
   "metadata": {},
   "outputs": [],
   "source": [
    "##if语句后面的条件判断表达式使用 : 结束。\n",
    "#可以使用elif、else进行组合判断。\n",
    "#else后不能加判断条件。\n",
    "#if语句可以嵌套。"
   ]
  },
  {
   "cell_type": "code",
   "execution_count": 24,
   "metadata": {},
   "outputs": [
    {
     "name": "stdout",
     "output_type": "stream",
     "text": [
      "1\n",
      "2\n",
      "3\n",
      "4\n",
      "5\n"
     ]
    }
   ],
   "source": [
    "sequence = [1, 2, 3, 4, 5]  \n",
    "for item in sequence:  \n",
    "    print(item)\n",
    "    statements=[6, 7, 8, 9, 10]"
   ]
  },
  {
   "cell_type": "code",
   "execution_count": 39,
   "metadata": {},
   "outputs": [
    {
     "name": "stdout",
     "output_type": "stream",
     "text": [
      "1\n",
      "2\n",
      "3\n",
      "4\n",
      "5\n",
      "6\n",
      "7\n",
      "8\n",
      "9\n",
      "10\n"
     ]
    }
   ],
   "source": [
    "# 循环示例：打印1到10的整数  \n",
    "for i in range(1, 11):  \n",
    "    print(i)"
   ]
  },
  {
   "cell_type": "code",
   "execution_count": 25,
   "metadata": {},
   "outputs": [],
   "source": [
    "#循环语法\n",
    "for iterating_var in sequence:\n",
    "  statements"
   ]
  },
  {
   "cell_type": "code",
   "execution_count": 26,
   "metadata": {},
   "outputs": [
    {
     "name": "stdout",
     "output_type": "stream",
     "text": [
      "1\n",
      "2\n",
      "3\n",
      "4\n"
     ]
    }
   ],
   "source": [
    "#案例1：循环处理序列元素\n",
    "\n",
    "\n",
    "mylist = [1, 2, 3, 4]\n",
    "for i in mylist:\n",
    "    print(i)"
   ]
  },
  {
   "cell_type": "code",
   "execution_count": 27,
   "metadata": {},
   "outputs": [
    {
     "name": "stdout",
     "output_type": "stream",
     "text": [
      "标题 Python一学就会\n",
      "作者 小明\n"
     ]
    }
   ],
   "source": [
    "#案例2： 循环处理字典内容\n",
    "\"\"\"在字典中循环时，用 `items()` 方法可同时取出键和对应的值：\"\"\"\n",
    "books = {'标题': 'Python一学就会', '作者': '小明'}\n",
    "for k, v in books.items():\n",
    "    print(k, v)"
   ]
  },
  {
   "cell_type": "code",
   "execution_count": 28,
   "metadata": {},
   "outputs": [
    {
     "name": "stdout",
     "output_type": "stream",
     "text": [
      "0 tic\n",
      "1 tac\n",
      "2 toe\n"
     ]
    }
   ],
   "source": [
    "#\"\"\"在序列中循环时，用enumerate()函数可以同时取出位置索引和对应的值：\"\"\"\n",
    "for i, v in enumerate(['tic', 'tac', 'toe']):\n",
    "    print(i, v)"
   ]
  },
  {
   "cell_type": "code",
   "execution_count": 29,
   "metadata": {},
   "outputs": [
    {
     "name": "stdout",
     "output_type": "stream",
     "text": [
      "What is your name?  It is lancelot.\n",
      "What is your quest?  It is the holy grail.\n",
      "What is your favorite color?  It is blue.\n"
     ]
    }
   ],
   "source": [
    "#\"\"\"同时循环两个或多个序列时，用zip()函数可以将其内的元素一一匹配\"\"\"\n",
    "questions = ['name', 'quest', 'favorite color']\n",
    "answers = ['lancelot', 'the holy grail', 'blue']\n",
    "for q, a in zip(questions, answers):\n",
    "   print('What is your {0}?  It is {1}.'.format(q, a))"
   ]
  },
  {
   "cell_type": "code",
   "execution_count": 30,
   "metadata": {},
   "outputs": [
    {
     "name": "stdout",
     "output_type": "stream",
     "text": [
      "0\n",
      "1\n",
      "2\n",
      "3\n",
      "4\n",
      "5\n",
      "6\n",
      "7\n",
      "8\n",
      "9\n",
      "1\n",
      "2\n",
      "3\n",
      "4\n",
      "5\n",
      "6\n",
      "7\n",
      "8\n",
      "9\n",
      "1\n",
      "3\n",
      "5\n",
      "7\n",
      "9\n"
     ]
    }
   ],
   "source": [
    "#\"\"\"range()函数能够指定循环的起始值和结束值，从而让循环体在指定的范围内循环。例如：\"\"\"\n",
    "for i in range(10):\n",
    "    print(i)                    # 0-9\n",
    "for i in range(1,10):\n",
    "    print(i)                    # 1-9\n",
    "for i in range(1,10,2):\n",
    "    print(i)                    # 1,3,5,7"
   ]
  },
  {
   "cell_type": "code",
   "execution_count": 31,
   "metadata": {},
   "outputs": [],
   "source": [
    "#当循环体内部出现 continue 声明时，会结束本次循环，跳转到循环体开始位置，开始下一次循环"
   ]
  },
  {
   "cell_type": "code",
   "execution_count": 32,
   "metadata": {},
   "outputs": [],
   "source": [
    "#使用 break 语句，配合if语句，可以在满足某个条件的时候中断循环。"
   ]
  },
  {
   "cell_type": "code",
   "execution_count": 33,
   "metadata": {},
   "outputs": [],
   "source": [
    "#pass 语句不执行任何操作。语法上需要一个语句，但程序不实际执行任何动作时，可以使用该语句。"
   ]
  },
  {
   "cell_type": "code",
   "execution_count": 34,
   "metadata": {},
   "outputs": [],
   "source": [
    "#什么是CSV\n",
    "#CSV是Comma-Separated Values的缩写，直译为逗号分隔值，这种格式的文件以纯文本形式存储表格数据（数字和文本）。CSV文件多以逗号为字段之间的分隔符，\n",
    "# 但也可以使用其他的字符作为字段之间的分隔符。例如：1997，Ford，E350，\"ac， abs， moon\"，3000.00就是一行CSV格式的数据。CSV因其格式简单，且为纯文本，\n",
    "# 故被广泛采用在不同数据处理工具中。\n",
    "\n"
   ]
  },
  {
   "cell_type": "code",
   "execution_count": 35,
   "metadata": {},
   "outputs": [],
   "source": [
    "#使用Pandas提供的read_excel()方法，可以读取xls及xlsx的数据。不过在使用该方法前还需要安装openpyxl包。"
   ]
  },
  {
   "cell_type": "code",
   "execution_count": 36,
   "metadata": {},
   "outputs": [],
   "source": [
    "#pandas.read_csv方法的filepath_or_buffer参数可以是字符串形式的本地文件地址，还可以是URL。\n",
    "# 例如：pd.read_csv('https://adamyang.coding.net/p/data/d/data/git/raw/master/csv/movie.csv')将读取在线的数据。"
   ]
  },
  {
   "cell_type": "code",
   "execution_count": 37,
   "metadata": {},
   "outputs": [],
   "source": [
    "#read_csv方法的常用参数\n",
    "#sep或delimiter，用于设定文件分隔符。\n",
    "#header，用作列名的行号，默认为0，csv文件中没有表头时需要将header设为None。\n",
    "#index_col，用作行索引的列编号。\n",
    "#names，自定义的列名列表，结合header=None。\n",
    "#skiprows，需要跳过读取的行数（从文件开始计算），或需要跳过的行号列表（从0开始）。\n",
    "#nrows，仅读取开始的若干行。\n",
    "#encoding，指定unicode的文本编码格式。"
   ]
  },
  {
   "cell_type": "code",
   "execution_count": 38,
   "metadata": {},
   "outputs": [],
   "source": [
    "#Pandas包中提供了pandas.read_csv方法读取CSV文件，读取成功后，该方法返回DataFrame类型的数据。例如：pd.read_csv('data.csv')。"
   ]
  },
  {
   "cell_type": "code",
   "execution_count": null,
   "metadata": {},
   "outputs": [],
   "source": []
  }
 ],
 "metadata": {
  "kernelspec": {
   "display_name": "Python 3",
   "language": "python",
   "name": "python3"
  },
  "language_info": {
   "codemirror_mode": {
    "name": "ipython",
    "version": 3
   },
   "file_extension": ".py",
   "mimetype": "text/x-python",
   "name": "python",
   "nbconvert_exporter": "python",
   "pygments_lexer": "ipython3",
   "version": "3.8.10"
  }
 },
 "nbformat": 4,
 "nbformat_minor": 2
}
