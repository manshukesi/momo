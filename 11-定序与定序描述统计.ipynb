{
 "cells": [
  {
   "cell_type": "code",
   "execution_count": null,
   "metadata": {},
   "outputs": [],
   "source": [
    "#双变量描述统计指标是相关系数，相关系数有很多种。选择标准有三:\n",
    "#1.测量层次\n",
    "#2.是否对称\n",
    "#3.是否具有消除误差比例的意义\n",
    "\n",
    "#定序与定序变量的相关系数很多，优先选择Tau-y系数"
   ]
  },
  {
   "cell_type": "code",
   "execution_count": null,
   "metadata": {},
   "outputs": [],
   "source": [
    "import mytools\n",
    "from pyreadstat import pyreadstat\n",
    "国家认同原始数据,meta=mytools.读取SPSS数据(R'identity.sav')"
   ]
  },
  {
   "cell_type": "code",
   "execution_count": null,
   "metadata": {},
   "outputs": [],
   "source": [
    "pd.crosstab"
   ]
  }
 ],
 "metadata": {
  "language_info": {
   "name": "python"
  }
 },
 "nbformat": 4,
 "nbformat_minor": 2
}
