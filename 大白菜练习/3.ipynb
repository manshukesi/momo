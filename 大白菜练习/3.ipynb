{
 "cells": [
  {
   "cell_type": "code",
   "execution_count": 72,
   "metadata": {},
   "outputs": [
    {
     "name": "stdout",
     "output_type": "stream",
     "text": [
      "有酒局，阿尔娜速来!\n"
     ]
    }
   ],
   "source": [
    "name=\"阿尔娜\"\n",
    "print(f\"有酒局，{name}速来!\")"
   ]
  },
  {
   "cell_type": "code",
   "execution_count": 73,
   "metadata": {},
   "outputs": [
    {
     "name": "stdout",
     "output_type": "stream",
     "text": [
      "夜鹤晓猿时复闻，\n",
      "寥寥长似耿离群。\n",
      "月中未要恨丹桂，\n",
      "岭上且来看白云。\n"
     ]
    }
   ],
   "source": [
    "print(\"夜鹤晓猿时复闻，\\n寥寥长似耿离群。\\n月中未要恨丹桂，\\n岭上且来看白云。\")"
   ]
  },
  {
   "cell_type": "code",
   "execution_count": 74,
   "metadata": {},
   "outputs": [
    {
     "name": "stdout",
     "output_type": "stream",
     "text": [
      "马心仪要好好学习，\n",
      "马心仪要多参加比赛\n"
     ]
    }
   ],
   "source": [
    "I=\"马心仪\"\n",
    "print(f\"{I}要好好学习，\\n{I}要多参加比赛\")"
   ]
  },
  {
   "cell_type": "code",
   "execution_count": 75,
   "metadata": {},
   "outputs": [
    {
     "name": "stdout",
     "output_type": "stream",
     "text": [
      "23\n"
     ]
    }
   ],
   "source": [
    "myage=2023-2000\n",
    "print(myage)"
   ]
  },
  {
   "cell_type": "code",
   "execution_count": 76,
   "metadata": {},
   "outputs": [
    {
     "name": "stdout",
     "output_type": "stream",
     "text": [
      "4\n"
     ]
    }
   ],
   "source": [
    "a=1\n",
    "b=3\n",
    "print(a+b)"
   ]
  },
  {
   "cell_type": "code",
   "execution_count": 77,
   "metadata": {},
   "outputs": [
    {
     "name": "stdout",
     "output_type": "stream",
     "text": [
      "1\n"
     ]
    }
   ],
   "source": [
    "result=16%3\n",
    "print(result)"
   ]
  },
  {
   "cell_type": "code",
   "execution_count": 78,
   "metadata": {},
   "outputs": [
    {
     "name": "stdout",
     "output_type": "stream",
     "text": [
      "456123\n",
      "123123\n"
     ]
    }
   ],
   "source": [
    "print(\"456\"\"123\")\n",
    "print(\"123\"\"123\")"
   ]
  },
  {
   "cell_type": "code",
   "execution_count": 79,
   "metadata": {},
   "outputs": [
    {
     "name": "stdout",
     "output_type": "stream",
     "text": [
      "123123\n"
     ]
    }
   ],
   "source": [
    "print(\"123\"+\"123\")"
   ]
  },
  {
   "cell_type": "code",
   "execution_count": 80,
   "metadata": {},
   "outputs": [
    {
     "name": "stdout",
     "output_type": "stream",
     "text": [
      "马心仪今天的早餐是咖啡牛奶\n"
     ]
    }
   ],
   "source": [
    "coffee=\"咖啡\"\n",
    "milk=\"牛奶\"\n",
    "result=coffee+milk\n",
    "print(f\"马心仪今天的早餐是{result}\")"
   ]
  },
  {
   "cell_type": "code",
   "execution_count": 81,
   "metadata": {},
   "outputs": [
    {
     "name": "stdout",
     "output_type": "stream",
     "text": [
      "432,100,000\n"
     ]
    }
   ],
   "source": [
    "number=\"432\"+\",\"+\"100\"+\",\"+\"000\"\n",
    "print(number)"
   ]
  },
  {
   "cell_type": "code",
   "execution_count": 82,
   "metadata": {},
   "outputs": [
    {
     "name": "stdout",
     "output_type": "stream",
     "text": [
      "月饼可以装满33个包装盒\n",
      "还剩下1个月饼没有包装\n"
     ]
    }
   ],
   "source": [
    "boxNum=100//3\n",
    "print(f\"月饼可以装满{boxNum}个包装盒\")\n",
    "\n",
    "left=100%3\n",
    "print(f\"还剩下{left}个月饼没有包装\")"
   ]
  }
 ],
 "metadata": {
  "kernelspec": {
   "display_name": "Python 3",
   "language": "python",
   "name": "python3"
  },
  "language_info": {
   "codemirror_mode": {
    "name": "ipython",
    "version": 3
   },
   "file_extension": ".py",
   "mimetype": "text/x-python",
   "name": "python",
   "nbconvert_exporter": "python",
   "pygments_lexer": "ipython3",
   "version": "3.8.10"
  }
 },
 "nbformat": 4,
 "nbformat_minor": 2
}
