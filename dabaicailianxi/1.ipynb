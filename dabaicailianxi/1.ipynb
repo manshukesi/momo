{
 "cells": [
  {
   "cell_type": "code",
   "execution_count": 1,
   "metadata": {},
   "outputs": [
    {
     "name": "stdout",
     "output_type": "stream",
     "text": [
      "                                                            ||||||||||Hello World||||||||||                                                            \n"
     ]
    }
   ],
   "source": [
    "print(' ' * 60 + '|' * 10 + 'Hello World' + '|' * 10 + ' ' * 60)"
   ]
  },
  {
   "cell_type": "code",
   "execution_count": 2,
   "metadata": {},
   "outputs": [
    {
     "name": "stdout",
     "output_type": "stream",
     "text": [
      "        *\n",
      "       ***\n",
      "      *****\n",
      "     *******\n",
      "    *********\n",
      "   ***********\n",
      "  *************\n",
      " ***************\n",
      "*****************\n"
     ]
    }
   ],
   "source": [
    "for i in range(1, 10):  \n",
    "    print(' ' * (9 - i) + '*' * (2 * i - 1))"
   ]
  },
  {
   "cell_type": "code",
   "execution_count": 3,
   "metadata": {},
   "outputs": [
    {
     "data": {
      "image/png": "[encoded data removed]",
      "text/plain": [
       "<Figure size 640x480 with 1 Axes>"
      ]
     },
     "metadata": {},
     "output_type": "display_data"
    }
   ],
   "source": [
    "import matplotlib.pyplot as plt  \n",
    "import numpy as np  \n",
    "  \n",
    "x = np.linspace(-2, 2, 1000)  \n",
    "y1 = np.sqrt(1-(abs(x)-1)**2)  \n",
    "y2 = -3*np.sqrt(1-(abs(x)/2)**0.5)  \n",
    "  \n",
    "fig, ax = plt.subplots()  \n",
    "ax.fill_between(x, y1, color='red')  \n",
    "ax.fill_between(x, y2, color='red')  \n",
    "ax.set_aspect('equal')  \n",
    "  \n",
    "plt.show()"
   ]
  },
  {
   "cell_type": "code",
   "execution_count": 4,
   "metadata": {},
   "outputs": [],
   "source": [
    "from PIL import Image, ImageDraw, ImageFilter  \n",
    "  \n",
    "# 创建一个空白图片  \n",
    "width, height = 100, 100  \n",
    "image = Image.new('RGB', (width, height), (255, 255, 255))  \n",
    "draw = ImageDraw.Draw(image)  \n",
    "  \n",
    "# 使用随机颜色在图片上画点  \n",
    "for x in range(width):  \n",
    "    for y in range(height):  \n",
    "        r = int(127 + 127 * np.random.rand())  \n",
    "        g = int(127 + 127 * np.random.rand())  \n",
    "        b = int(127 + 127 * np.random.rand())  \n",
    "        draw.point((x, y), fill=(r, g, b))  \n",
    "  \n",
    "image.show()"
   ]
  },
  {
   "cell_type": "code",
   "execution_count": 5,
   "metadata": {},
   "outputs": [],
   "source": [
    "import tkinter as tk  \n",
    "from tkinter import messagebox  \n",
    "  \n",
    "def on_button_click():  \n",
    "    messagebox.showinfo(\"Message\", \"Hello, world!\")  \n",
    "  \n",
    "root = tk.Tk()  \n",
    "button = tk.Button(root, text=\"点击我\", command=on_button_click)  \n",
    "button.pack()  \n",
    "root.mainloop()"
   ]
  }
 ],
 "metadata": {
  "kernelspec": {
   "display_name": "Python 3",
   "language": "python",
   "name": "python3"
  },
  "language_info": {
   "codemirror_mode": {
    "name": "ipython",
    "version": 3
   },
   "file_extension": ".py",
   "mimetype": "text/x-python",
   "name": "python",
   "nbconvert_exporter": "python",
   "pygments_lexer": "ipython3",
   "version": "3.8.10"
  }
 },
 "nbformat": 4,
 "nbformat_minor": 2
}
