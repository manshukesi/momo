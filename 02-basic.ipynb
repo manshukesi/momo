{
 "cells": [
  {
   "cell_type": "code",
   "execution_count": 1,
   "metadata": {},
   "outputs": [
    {
     "name": "stdout",
     "output_type": "stream",
     "text": [
      "这个作业很让人难过\n"
     ]
    }
   ],
   "source": [
    "print('这个作业很让人难过')"
   ]
  },
  {
   "cell_type": "markdown",
   "metadata": {},
   "source": [
    "注释的语法 ¶\n",
    "在 Python 中，使用#标记进行**单行注释**。\n",
    "使用\"\"\"或'''来进行**多行注释**。\n",
    "多行注释不能嵌套。\n",
    "注释不会被 Python 解释器执行。\n"
   ]
  },
  {
   "cell_type": "code",
   "execution_count": 2,
   "metadata": {},
   "outputs": [
    {
     "name": "stdout",
     "output_type": "stream",
     "text": [
      "3+2=5\n",
      "3-2=1\n",
      "3*2=6\n",
      "3/2=1.5\n"
     ]
    }
   ],
   "source": [
    "print(\"3+2=\"+str(3+2))\n",
    "print(\"3-2=\"+str(3-2))\n",
    "print(\"3*2=\"+str(3*2))\n",
    "print(\"3/2=\"+str(3/2))"
   ]
  },
  {
   "cell_type": "code",
   "execution_count": 3,
   "metadata": {},
   "outputs": [
    {
     "name": "stdout",
     "output_type": "stream",
     "text": [
      "悦悦第一\n",
      "紧那罗\n",
      "阴阳师七周年快乐\n"
     ]
    }
   ],
   "source": [
    "Sects='悦悦第一'\n",
    "print(Sects)\n",
    "Sects='紧那罗'\n",
    "print(Sects)\n",
    "Sects='阴阳师七周年快乐'\n",
    "print(Sects)\n"
   ]
  }
 ],
 "metadata": {
  "kernelspec": {
   "display_name": "Python 3",
   "language": "python",
   "name": "python3"
  },
  "language_info": {
   "codemirror_mode": {
    "name": "ipython",
    "version": 3
   },
   "file_extension": ".py",
   "mimetype": "text/x-python",
   "name": "python",
   "nbconvert_exporter": "python",
   "pygments_lexer": "ipython3",
   "version": "3.8.10"
  },
  "orig_nbformat": 4
 },
 "nbformat": 4,
 "nbformat_minor": 2
}
