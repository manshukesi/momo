{
 "cells": [
  {
   "cell_type": "code",
   "execution_count": 11,
   "metadata": {},
   "outputs": [
    {
     "name": "stdout",
     "output_type": "stream",
     "text": [
      "有酒局，阿尔娜速来!\n"
     ]
    }
   ],
   "source": [
    "name=\"阿尔娜\"\n",
    "print(f\"有酒局，{name}速来!\")"
   ]
  },
  {
   "cell_type": "code",
   "execution_count": 12,
   "metadata": {},
   "outputs": [
    {
     "name": "stdout",
     "output_type": "stream",
     "text": [
      "夜鹤晓猿时复闻，\n",
      "寥寥长似耿离群。\n",
      "月中未要恨丹桂，\n",
      "岭上且来看白云。\n"
     ]
    }
   ],
   "source": [
    "print(\"夜鹤晓猿时复闻，\\n寥寥长似耿离群。\\n月中未要恨丹桂，\\n岭上且来看白云。\")"
   ]
  },
  {
   "cell_type": "code",
   "execution_count": 13,
   "metadata": {},
   "outputs": [
    {
     "name": "stdout",
     "output_type": "stream",
     "text": [
      "马心仪要好好学习，\n",
      "马心仪要多参加比赛\n"
     ]
    }
   ],
   "source": [
    "I=\"马心仪\"\n",
    "print(f\"{I}要好好学习，\\n{I}要多参加比赛\")"
   ]
  }
 ],
 "metadata": {
  "kernelspec": {
   "display_name": "Python 3",
   "language": "python",
   "name": "python3"
  },
  "language_info": {
   "codemirror_mode": {
    "name": "ipython",
    "version": 3
   },
   "file_extension": ".py",
   "mimetype": "text/x-python",
   "name": "python",
   "nbconvert_exporter": "python",
   "pygments_lexer": "ipython3",
   "version": "3.8.10"
  }
 },
 "nbformat": 4,
 "nbformat_minor": 2
}
