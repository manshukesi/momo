{
 "cells": [
  {
   "cell_type": "code",
   "execution_count": 1,
   "metadata": {},
   "outputs": [],
   "source": [
    "import matplotlib.pyplot as plt  \n",
    "import pandas as pd"
   ]
  },
  {
   "cell_type": "code",
   "execution_count": 2,
   "metadata": {},
   "outputs": [
    {
     "ename": "PyreadstatError",
     "evalue": "File data\\identity.sav does not exist!",
     "output_type": "error",
     "traceback": [
      "\u001b[1;31m---------------------------------------------------------------------------\u001b[0m",
      "\u001b[1;31mPyreadstatError\u001b[0m                           Traceback (most recent call last)",
      "\u001b[1;32mc:\\Users\\26514\\Desktop\\momo\\大白菜练习\\4.ipynb 单元格 2\u001b[0m line \u001b[0;36m1\n\u001b[1;32m----> <a href='vscode-notebook-cell:/c%3A/Users/26514/Desktop/momo/%E5%A4%A7%E7%99%BD%E8%8F%9C%E7%BB%83%E4%B9%A0/4.ipynb#W5sZmlsZQ%3D%3D?line=0'>1</a>\u001b[0m 数据表\u001b[39m=\u001b[39m pd\u001b[39m.\u001b[39;49mread_spss(\u001b[39mR\u001b[39;49m\u001b[39m'\u001b[39;49m\u001b[39mdata\u001b[39;49m\u001b[39m\\\u001b[39;49m\u001b[39midentity.sav\u001b[39;49m\u001b[39m'\u001b[39;49m)\n",
      "File \u001b[1;32m~\\AppData\\Roaming\\Python\\Python38\\site-packages\\pandas\\io\\spss.py:62\u001b[0m, in \u001b[0;36mread_spss\u001b[1;34m(path, usecols, convert_categoricals, dtype_backend)\u001b[0m\n\u001b[0;32m     59\u001b[0m         \u001b[39mraise\u001b[39;00m \u001b[39mTypeError\u001b[39;00m(\u001b[39m\"\u001b[39m\u001b[39musecols must be list-like.\u001b[39m\u001b[39m\"\u001b[39m)\n\u001b[0;32m     60\u001b[0m     usecols \u001b[39m=\u001b[39m \u001b[39mlist\u001b[39m(usecols)  \u001b[39m# pyreadstat requires a list\u001b[39;00m\n\u001b[1;32m---> 62\u001b[0m df, _ \u001b[39m=\u001b[39m pyreadstat\u001b[39m.\u001b[39;49mread_sav(\n\u001b[0;32m     63\u001b[0m     stringify_path(path), usecols\u001b[39m=\u001b[39;49musecols, apply_value_formats\u001b[39m=\u001b[39;49mconvert_categoricals\n\u001b[0;32m     64\u001b[0m )\n\u001b[0;32m     65\u001b[0m \u001b[39mif\u001b[39;00m dtype_backend \u001b[39mis\u001b[39;00m \u001b[39mnot\u001b[39;00m lib\u001b[39m.\u001b[39mno_default:\n\u001b[0;32m     66\u001b[0m     df \u001b[39m=\u001b[39m df\u001b[39m.\u001b[39mconvert_dtypes(dtype_backend\u001b[39m=\u001b[39mdtype_backend)\n",
      "File \u001b[1;32mpyreadstat\\\\pyreadstat.pyx:388\u001b[0m, in \u001b[0;36mpyreadstat.pyreadstat.read_sav\u001b[1;34m()\u001b[0m\n",
      "File \u001b[1;32mpyreadstat\\\\_readstat_parser.pyx:1065\u001b[0m, in \u001b[0;36mpyreadstat._readstat_parser.run_conversion\u001b[1;34m()\u001b[0m\n",
      "\u001b[1;31mPyreadstatError\u001b[0m: File data\\identity.sav does not exist!"
     ]
    }
   ],
   "source": [
    "数据表= pd.read_spss(R'data\\identity.sav')"
   ]
  },
  {
   "cell_type": "code",
   "execution_count": null,
   "metadata": {},
   "outputs": [],
   "source": [
    "\n",
    "x = df['政治面貌'].value_counts().index\n",
    "y = df['政治面貌'].value_counts(normalize=True)\n",
    "fig, ax1 = plt.subplots()\n",
    "labels = df['政治面貌'].value_counts().index\n",
    "ax1.pie(y, autopct='%1.1f%%', labels=labels, textprops=dict(color=\"black\"))\n",
    "plt.show()"
   ]
  }
 ],
 "metadata": {
  "kernelspec": {
   "display_name": "Python 3",
   "language": "python",
   "name": "python3"
  },
  "language_info": {
   "codemirror_mode": {
    "name": "ipython",
    "version": 3
   },
   "file_extension": ".py",
   "mimetype": "text/x-python",
   "name": "python",
   "nbconvert_exporter": "python",
   "pygments_lexer": "ipython3",
   "version": "3.8.10"
  }
 },
 "nbformat": 4,
 "nbformat_minor": 2
}
